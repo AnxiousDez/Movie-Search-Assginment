{
 "cells": [
  {
   "cell_type": "markdown",
   "metadata": {},
   "source": [
    "# Semantic Search on Movie Plots - Assignment\n",
    "In this assignment, you will build a simple semantic search engine for movie plots using SentenceTransformers (`all-MiniLM-L6-v2`).\n",
    "\n",
    "## Objective:\n",
    "- Load a dataset of movie titles and plot summaries.\n",
    "- Encode the plots into embeddings.\n",
    "- Given a search query (e.g., 'spy thriller in Paris'), find the most relevant movie plots.\n",
    "\n",
    "## Dataset:\n",
    "We'll use a small movies dataset (`movies.csv`) with columns: `title`, `plot`. A sample CSV will be provided.\n"
   ]
  },
  {
   "cell_type": "code",
   "execution_count": null,
   "metadata": {},
   "outputs": [],
   "source": [
    "# 1. Install and import necessary libraries\n",
    "# TODO: Install sentence-transformers if not installed\n",
    "# import pandas as pd\n",
    "# from sentence_transformers import SentenceTransformer\n",
    "# from sklearn.metrics.pairwise import cosine_similarity\n"
   ]
  },
  {
   "cell_type": "code",
   "execution_count": null,
   "metadata": {},
   "outputs": [],
   "source": [
    "# 2. Load the dataset\n",
    "# TODO: Load movies.csv into a pandas DataFrame\n",
    "# df = pd.read_csv('movies.csv')\n",
    "# df.head()"
   ]
  },
  {
   "cell_type": "code",
   "execution_count": null,
   "metadata": {},
   "outputs": [],
   "source": [
    "# 3. Create embeddings for the movie plots\n",
    "# TODO: Initialize the MiniLM-L6 model and encode the plots\n",
    "# model = ...\n",
    "# embeddings = ..."
   ]
  },
  {
   "cell_type": "code",
   "execution_count": null,
   "metadata": {},
   "outputs": [],
   "source": [
    "# 4. Define a search function\n",
    "# TODO: Implement search_movies(query, top_n)\n",
    "# Steps:\n",
    "# 1. Encode the query\n",
    "# 2. Compute cosine similarity with all embeddings\n",
    "# 3. Return top_n results sorted by similarity\n",
    "def search_movies(query, top_n=5):\n",
    "    pass"
   ]
  },
  {
   "cell_type": "code",
   "execution_count": null,
   "metadata": {},
   "outputs": [],
   "source": [
    "# 5. Test your function\n",
    "# Example: search_movies('spy thriller in Paris')\n"
   ]
  }
 ],
 "metadata": {
  "kernelspec": {
   "display_name": "Python 3",
   "language": "python",
   "name": "python3"
  },
  "language_info": {
   "name": "python",
   "version": "3.x"
  }
 },
 "nbformat": 4,
 "nbformat_minor": 2
}